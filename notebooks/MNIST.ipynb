{
 "cells": [
  {
   "cell_type": "code",
   "execution_count": 1,
   "metadata": {
    "colab": {
     "base_uri": "https://localhost:8080/",
     "height": 102
    },
    "colab_type": "code",
    "executionInfo": {
     "elapsed": 9249,
     "status": "ok",
     "timestamp": 1599553004200,
     "user": {
      "displayName": "Sunmeet Oberoi",
      "photoUrl": "https://lh3.googleusercontent.com/-EU6DQoaxgfQ/AAAAAAAAAAI/AAAAAAAAByM/kewBTgh0GFk/s64/photo.jpg",
      "userId": "02608359875210558903"
     },
     "user_tz": -330
    },
    "id": "7QFhwi9pFsUH",
    "outputId": "5ad6768a-9375-46d6-f531-71e2a87ba86e"
   },
   "outputs": [
    {
     "name": "stdout",
     "output_type": "stream",
     "text": [
      "Device mapping:\n",
      "/job:localhost/replica:0/task:0/device:XLA_CPU:0 -> device: XLA_CPU device\n",
      "/job:localhost/replica:0/task:0/device:XLA_GPU:0 -> device: XLA_GPU device\n",
      "/job:localhost/replica:0/task:0/device:GPU:0 -> device: 0, name: Tesla K80, pci bus id: 0000:00:04.0, compute capability: 3.7\n",
      "\n"
     ]
    }
   ],
   "source": [
    "import tensorflow as tf\n",
    "from tensorflow.keras import Sequential\n",
    "from tensorflow.keras.layers import Conv2D, Flatten, Dense, MaxPool2D, Dropout, AvgPool2D\n",
    "import numpy as np\n",
    "import matplotlib.pyplot as plt\n",
    "sess = tf.compat.v1.Session(config=tf.compat.v1.ConfigProto(log_device_placement=True))"
   ]
  },
  {
   "cell_type": "code",
   "execution_count": 2,
   "metadata": {
    "colab": {
     "base_uri": "https://localhost:8080/",
     "height": 51
    },
    "colab_type": "code",
    "executionInfo": {
     "elapsed": 9860,
     "status": "ok",
     "timestamp": 1599553004823,
     "user": {
      "displayName": "Sunmeet Oberoi",
      "photoUrl": "https://lh3.googleusercontent.com/-EU6DQoaxgfQ/AAAAAAAAAAI/AAAAAAAAByM/kewBTgh0GFk/s64/photo.jpg",
      "userId": "02608359875210558903"
     },
     "user_tz": -330
    },
    "id": "KMRHN_8kFsUZ",
    "outputId": "aee92c99-96c1-4add-af26-9b1534c22027"
   },
   "outputs": [
    {
     "name": "stdout",
     "output_type": "stream",
     "text": [
      "Downloading data from https://storage.googleapis.com/tensorflow/tf-keras-datasets/mnist.npz\n",
      "11493376/11490434 [==============================] - 0s 0us/step\n"
     ]
    }
   ],
   "source": [
    "(x_train, y_train), (x_test, y_test) = tf.keras.datasets.mnist.load_data()"
   ]
  },
  {
   "cell_type": "code",
   "execution_count": 3,
   "metadata": {
    "colab": {},
    "colab_type": "code",
    "executionInfo": {
     "elapsed": 9854,
     "status": "ok",
     "timestamp": 1599553004825,
     "user": {
      "displayName": "Sunmeet Oberoi",
      "photoUrl": "https://lh3.googleusercontent.com/-EU6DQoaxgfQ/AAAAAAAAAAI/AAAAAAAAByM/kewBTgh0GFk/s64/photo.jpg",
      "userId": "02608359875210558903"
     },
     "user_tz": -330
    },
    "id": "HfEqpTA5FsUm"
   },
   "outputs": [],
   "source": [
    "y_train=tf.one_hot(y_train, 10)\n",
    "y_test=tf.one_hot(y_test, 10)"
   ]
  },
  {
   "cell_type": "code",
   "execution_count": 4,
   "metadata": {
    "colab": {
     "base_uri": "https://localhost:8080/",
     "height": 34
    },
    "colab_type": "code",
    "executionInfo": {
     "elapsed": 9589,
     "status": "ok",
     "timestamp": 1599553004827,
     "user": {
      "displayName": "Sunmeet Oberoi",
      "photoUrl": "https://lh3.googleusercontent.com/-EU6DQoaxgfQ/AAAAAAAAAAI/AAAAAAAAByM/kewBTgh0GFk/s64/photo.jpg",
      "userId": "02608359875210558903"
     },
     "user_tz": -330
    },
    "id": "PxYQeVlKFsUu",
    "outputId": "33c8ef5e-79d8-40be-818a-129e0bd0cf69"
   },
   "outputs": [
    {
     "data": {
      "text/plain": [
       "((60000, 28, 28, 1), (10000, 28, 28, 1))"
      ]
     },
     "execution_count": 4,
     "metadata": {
      "tags": []
     },
     "output_type": "execute_result"
    }
   ],
   "source": [
    "x_train=x_train.reshape((x_train.shape[0],28,28, 1)).astype('float32')\n",
    "x_test=x_test.reshape((x_test.shape[0],28,28, 1)).astype('float32')\n",
    "x_train/=255\n",
    "x_test/=255\n",
    "x_train.shape, x_test.shape"
   ]
  },
  {
   "cell_type": "code",
   "execution_count": 11,
   "metadata": {
    "colab": {},
    "colab_type": "code",
    "executionInfo": {
     "elapsed": 1759,
     "status": "ok",
     "timestamp": 1599553123253,
     "user": {
      "displayName": "Sunmeet Oberoi",
      "photoUrl": "https://lh3.googleusercontent.com/-EU6DQoaxgfQ/AAAAAAAAAAI/AAAAAAAAByM/kewBTgh0GFk/s64/photo.jpg",
      "userId": "02608359875210558903"
     },
     "user_tz": -330
    },
    "id": "E765Oru4FsU1"
   },
   "outputs": [],
   "source": [
    "model=Sequential([\n",
    "    Conv2D(filters=32, kernel_size=[3,3], activation='relu', input_shape=(28,28,1)),\n",
    "    Conv2D(filters=64, kernel_size=[3,3], activation='relu'),\n",
    "    MaxPool2D(pool_size=(2,2)),\n",
    "    Dropout(0.25),\n",
    "    Flatten(),\n",
    "    Dense(128, activation='relu'),\n",
    "    Dropout(0.5),\n",
    "    Dense(10, activation='softmax')\n",
    "])"
   ]
  },
  {
   "cell_type": "code",
   "execution_count": 12,
   "metadata": {
    "colab": {
     "base_uri": "https://localhost:8080/",
     "height": 425
    },
    "colab_type": "code",
    "executionInfo": {
     "elapsed": 1110,
     "status": "ok",
     "timestamp": 1599553123255,
     "user": {
      "displayName": "Sunmeet Oberoi",
      "photoUrl": "https://lh3.googleusercontent.com/-EU6DQoaxgfQ/AAAAAAAAAAI/AAAAAAAAByM/kewBTgh0GFk/s64/photo.jpg",
      "userId": "02608359875210558903"
     },
     "user_tz": -330
    },
    "id": "e4RPAIUXFsU8",
    "outputId": "e6c7513e-de44-452b-8904-b8fc33c78e00",
    "scrolled": true
   },
   "outputs": [
    {
     "name": "stdout",
     "output_type": "stream",
     "text": [
      "Model: \"sequential_2\"\n",
      "_________________________________________________________________\n",
      "Layer (type)                 Output Shape              Param #   \n",
      "=================================================================\n",
      "conv2d_4 (Conv2D)            (None, 26, 26, 32)        320       \n",
      "_________________________________________________________________\n",
      "conv2d_5 (Conv2D)            (None, 24, 24, 64)        18496     \n",
      "_________________________________________________________________\n",
      "max_pooling2d_2 (MaxPooling2 (None, 12, 12, 64)        0         \n",
      "_________________________________________________________________\n",
      "dropout_2 (Dropout)          (None, 12, 12, 64)        0         \n",
      "_________________________________________________________________\n",
      "flatten_2 (Flatten)          (None, 9216)              0         \n",
      "_________________________________________________________________\n",
      "dense_4 (Dense)              (None, 128)               1179776   \n",
      "_________________________________________________________________\n",
      "dropout_3 (Dropout)          (None, 128)               0         \n",
      "_________________________________________________________________\n",
      "dense_5 (Dense)              (None, 10)                1290      \n",
      "=================================================================\n",
      "Total params: 1,199,882\n",
      "Trainable params: 1,199,882\n",
      "Non-trainable params: 0\n",
      "_________________________________________________________________\n"
     ]
    }
   ],
   "source": [
    "model.summary()"
   ]
  },
  {
   "cell_type": "code",
   "execution_count": 13,
   "metadata": {
    "colab": {},
    "colab_type": "code",
    "executionInfo": {
     "elapsed": 1207,
     "status": "ok",
     "timestamp": 1599553125041,
     "user": {
      "displayName": "Sunmeet Oberoi",
      "photoUrl": "https://lh3.googleusercontent.com/-EU6DQoaxgfQ/AAAAAAAAAAI/AAAAAAAAByM/kewBTgh0GFk/s64/photo.jpg",
      "userId": "02608359875210558903"
     },
     "user_tz": -330
    },
    "id": "33nDVqTrFsVB"
   },
   "outputs": [],
   "source": [
    "model.compile(optimizer=tf.keras.optimizers.Adam(), loss=tf.keras.losses.categorical_crossentropy, metrics=['accuracy'])"
   ]
  },
  {
   "cell_type": "code",
   "execution_count": 15,
   "metadata": {
    "colab": {
     "base_uri": "https://localhost:8080/",
     "height": 425
    },
    "colab_type": "code",
    "executionInfo": {
     "elapsed": 74972,
     "status": "ok",
     "timestamp": 1599553295855,
     "user": {
      "displayName": "Sunmeet Oberoi",
      "photoUrl": "https://lh3.googleusercontent.com/-EU6DQoaxgfQ/AAAAAAAAAAI/AAAAAAAAByM/kewBTgh0GFk/s64/photo.jpg",
      "userId": "02608359875210558903"
     },
     "user_tz": -330
    },
    "id": "-gx49JYCFsVG",
    "outputId": "f56d1faf-fbb5-4984-c26a-ed303641450c"
   },
   "outputs": [
    {
     "name": "stdout",
     "output_type": "stream",
     "text": [
      "Epoch 1/12\n",
      "469/469 [==============================] - 6s 13ms/step - loss: 0.0196 - accuracy: 0.9934\n",
      "Epoch 2/12\n",
      "469/469 [==============================] - 6s 13ms/step - loss: 0.0188 - accuracy: 0.9936\n",
      "Epoch 3/12\n",
      "469/469 [==============================] - 6s 13ms/step - loss: 0.0183 - accuracy: 0.9937\n",
      "Epoch 4/12\n",
      "469/469 [==============================] - 6s 14ms/step - loss: 0.0168 - accuracy: 0.9941\n",
      "Epoch 5/12\n",
      "469/469 [==============================] - 6s 13ms/step - loss: 0.0166 - accuracy: 0.9944\n",
      "Epoch 6/12\n",
      "469/469 [==============================] - 6s 13ms/step - loss: 0.0151 - accuracy: 0.9951\n",
      "Epoch 7/12\n",
      "469/469 [==============================] - 6s 13ms/step - loss: 0.0137 - accuracy: 0.9954\n",
      "Epoch 8/12\n",
      "469/469 [==============================] - 6s 13ms/step - loss: 0.0137 - accuracy: 0.9952\n",
      "Epoch 9/12\n",
      "469/469 [==============================] - 6s 13ms/step - loss: 0.0150 - accuracy: 0.9949\n",
      "Epoch 10/12\n",
      "469/469 [==============================] - 6s 13ms/step - loss: 0.0117 - accuracy: 0.9961\n",
      "Epoch 11/12\n",
      "469/469 [==============================] - 6s 13ms/step - loss: 0.0125 - accuracy: 0.9959\n",
      "Epoch 12/12\n",
      "469/469 [==============================] - 6s 13ms/step - loss: 0.0116 - accuracy: 0.9961\n"
     ]
    }
   ],
   "source": [
    "history=model.fit(x_train, y_train, batch_size=128, epochs=12)"
   ]
  },
  {
   "cell_type": "code",
   "execution_count": 16,
   "metadata": {
    "colab": {
     "base_uri": "https://localhost:8080/",
     "height": 282
    },
    "colab_type": "code",
    "executionInfo": {
     "elapsed": 1289,
     "status": "ok",
     "timestamp": 1599553353872,
     "user": {
      "displayName": "Sunmeet Oberoi",
      "photoUrl": "https://lh3.googleusercontent.com/-EU6DQoaxgfQ/AAAAAAAAAAI/AAAAAAAAByM/kewBTgh0GFk/s64/photo.jpg",
      "userId": "02608359875210558903"
     },
     "user_tz": -330
    },
    "id": "aVbEG0cqFsVU",
    "outputId": "c021b403-e0ee-4ecd-9f46-5f8d39cb8351"
   },
   "outputs": [
    {
     "data": {
      "text/plain": [
       "[<matplotlib.lines.Line2D at 0x7f982585d1d0>]"
      ]
     },
     "execution_count": 16,
     "metadata": {
      "tags": []
     },
     "output_type": "execute_result"
    },
    {
     "data": {
      "image/png": "[encoded data removed]",
      "text/plain": [
       "<Figure size 432x288 with 1 Axes>"
      ]
     },
     "metadata": {
      "needs_background": "light",
      "tags": []
     },
     "output_type": "display_data"
    }
   ],
   "source": [
    "plt.plot(history.history['loss'])"
   ]
  },
  {
   "cell_type": "code",
   "execution_count": 17,
   "metadata": {
    "colab": {
     "base_uri": "https://localhost:8080/",
     "height": 51
    },
    "colab_type": "code",
    "executionInfo": {
     "elapsed": 2517,
     "status": "ok",
     "timestamp": 1599553358218,
     "user": {
      "displayName": "Sunmeet Oberoi",
      "photoUrl": "https://lh3.googleusercontent.com/-EU6DQoaxgfQ/AAAAAAAAAAI/AAAAAAAAByM/kewBTgh0GFk/s64/photo.jpg",
      "userId": "02608359875210558903"
     },
     "user_tz": -330
    },
    "id": "fqILe7c1NDi9",
    "outputId": "e7300f14-85cd-4083-fd23-3cf0a2c9ea0b"
   },
   "outputs": [
    {
     "name": "stdout",
     "output_type": "stream",
     "text": [
      "313/313 [==============================] - 1s 4ms/step - loss: 0.0288 - accuracy: 0.9928\n"
     ]
    },
    {
     "data": {
      "text/plain": [
       "[0.028794504702091217, 0.9927999973297119]"
      ]
     },
     "execution_count": 17,
     "metadata": {
      "tags": []
     },
     "output_type": "execute_result"
    }
   ],
   "source": [
    "model.evaluate(x_test, y_test)"
   ]
  },
  {
   "cell_type": "code",
   "execution_count": 18,
   "metadata": {
    "colab": {},
    "colab_type": "code",
    "executionInfo": {
     "elapsed": 1766,
     "status": "ok",
     "timestamp": 1599553362179,
     "user": {
      "displayName": "Sunmeet Oberoi",
      "photoUrl": "https://lh3.googleusercontent.com/-EU6DQoaxgfQ/AAAAAAAAAAI/AAAAAAAAByM/kewBTgh0GFk/s64/photo.jpg",
      "userId": "02608359875210558903"
     },
     "user_tz": -330
    },
    "id": "NemxmVI5NKwG"
   },
   "outputs": [],
   "source": [
    "predictions=model.predict(x_test)"
   ]
  },
  {
   "cell_type": "code",
   "execution_count": 19,
   "metadata": {
    "colab": {
     "base_uri": "https://localhost:8080/",
     "height": 1000
    },
    "colab_type": "code",
    "executionInfo": {
     "elapsed": 5646,
     "status": "ok",
     "timestamp": 1599553368884,
     "user": {
      "displayName": "Sunmeet Oberoi",
      "photoUrl": "https://lh3.googleusercontent.com/-EU6DQoaxgfQ/AAAAAAAAAAI/AAAAAAAAByM/kewBTgh0GFk/s64/photo.jpg",
      "userId": "02608359875210558903"
     },
     "user_tz": -330
    },
    "id": "IJGbxHVRWMNY",
    "outputId": "e89f3926-13fd-428f-8864-ce249ef11a6c"
   },
   "outputs": [
    {
     "name": "stdout",
     "output_type": "stream",
     "text": [
      "92\n",
      "247\n",
      "321\n",
      "449\n",
      "582\n",
      "583\n",
      "938\n",
      "947\n",
      "1014\n",
      "1033\n",
      "1039\n",
      "1226\n",
      "1232\n",
      "1242\n",
      "1393\n",
      "1414\n",
      "1415\n",
      "1530\n",
      "1621\n",
      "1681\n",
      "1709\n",
      "1790\n",
      "1878\n",
      "1901\n",
      "1903\n",
      "2040\n",
      "2107\n",
      "2118\n",
      "2129\n",
      "2130\n",
      "2135\n",
      "2280\n",
      "2293\n",
      "2406\n",
      "2414\n",
      "2462\n",
      "2597\n",
      "2654\n",
      "2896\n",
      "2921\n",
      "2927\n",
      "2939\n",
      "3030\n",
      "3073\n",
      "3422\n",
      "3520\n",
      "3558\n",
      "3727\n",
      "3808\n",
      "3850\n",
      "3941\n",
      "4176\n",
      "4256\n",
      "4369\n",
      "4740\n",
      "4761\n",
      "5331\n",
      "5937\n",
      "5955\n",
      "6091\n",
      "6576\n",
      "6597\n",
      "6625\n",
      "9009\n",
      "9015\n",
      "9019\n",
      "9638\n",
      "9642\n",
      "9664\n",
      "9692\n",
      "9729\n",
      "9839\n"
     ]
    }
   ],
   "source": [
    "for i in range(y_test.shape[0]):\n",
    "    if np.argmax(predictions[i])!=np.argmax(y_test[i]):\n",
    "        print(i)"
   ]
  },
  {
   "cell_type": "code",
   "execution_count": 24,
   "metadata": {
    "colab": {
     "base_uri": "https://localhost:8080/",
     "height": 34
    },
    "colab_type": "code",
    "executionInfo": {
     "elapsed": 1250,
     "status": "ok",
     "timestamp": 1599553492781,
     "user": {
      "displayName": "Sunmeet Oberoi",
      "photoUrl": "https://lh3.googleusercontent.com/-EU6DQoaxgfQ/AAAAAAAAAAI/AAAAAAAAByM/kewBTgh0GFk/s64/photo.jpg",
      "userId": "02608359875210558903"
     },
     "user_tz": -330
    },
    "id": "UmBoqi9ZWL4j",
    "outputId": "3eaa5707-c612-4f67-b200-ac3cba70b6cb"
   },
   "outputs": [
    {
     "data": {
      "text/plain": [
       "3"
      ]
     },
     "execution_count": 24,
     "metadata": {
      "tags": []
     },
     "output_type": "execute_result"
    }
   ],
   "source": [
    "test=5937\n",
    "np.argmax(predictions[test])"
   ]
  },
  {
   "cell_type": "code",
   "execution_count": 25,
   "metadata": {
    "colab": {
     "base_uri": "https://localhost:8080/",
     "height": 34
    },
    "colab_type": "code",
    "executionInfo": {
     "elapsed": 932,
     "status": "ok",
     "timestamp": 1599553493260,
     "user": {
      "displayName": "Sunmeet Oberoi",
      "photoUrl": "https://lh3.googleusercontent.com/-EU6DQoaxgfQ/AAAAAAAAAAI/AAAAAAAAByM/kewBTgh0GFk/s64/photo.jpg",
      "userId": "02608359875210558903"
     },
     "user_tz": -330
    },
    "id": "daIwr0oRWLey",
    "outputId": "d47c1e89-c8af-45a6-954f-6f5e3ae8fe31"
   },
   "outputs": [
    {
     "data": {
      "text/plain": [
       "5"
      ]
     },
     "execution_count": 25,
     "metadata": {
      "tags": []
     },
     "output_type": "execute_result"
    }
   ],
   "source": [
    "np.argmax(y_test[test])"
   ]
  },
  {
   "cell_type": "code",
   "execution_count": 26,
   "metadata": {
    "colab": {
     "base_uri": "https://localhost:8080/",
     "height": 282
    },
    "colab_type": "code",
    "executionInfo": {
     "elapsed": 1803,
     "status": "ok",
     "timestamp": 1599553494312,
     "user": {
      "displayName": "Sunmeet Oberoi",
      "photoUrl": "https://lh3.googleusercontent.com/-EU6DQoaxgfQ/AAAAAAAAAAI/AAAAAAAAByM/kewBTgh0GFk/s64/photo.jpg",
      "userId": "02608359875210558903"
     },
     "user_tz": -330
    },
    "id": "5A-jmnEiXi5X",
    "outputId": "db694e5f-286d-4458-8e4b-343a21bc2ba3"
   },
   "outputs": [
    {
     "data": {
      "text/plain": [
       "<matplotlib.image.AxesImage at 0x7f98242e36a0>"
      ]
     },
     "execution_count": 26,
     "metadata": {
      "tags": []
     },
     "output_type": "execute_result"
    },
    {
     "data": {
      "image/png": "[encoded data removed]",
      "text/plain": [
       "<Figure size 432x288 with 1 Axes>"
      ]
     },
     "metadata": {
      "needs_background": "light",
      "tags": []
     },
     "output_type": "display_data"
    }
   ],
   "source": [
    "plt.imshow(np.squeeze(x_test[test]))"
   ]
  },
  {
   "cell_type": "code",
   "execution_count": 68,
   "metadata": {
    "colab": {
     "base_uri": "https://localhost:8080/",
     "height": 1000
    },
    "colab_type": "code",
    "executionInfo": {
     "elapsed": 3159,
     "status": "ok",
     "timestamp": 1599544799424,
     "user": {
      "displayName": "Sunmeet Oberoi",
      "photoUrl": "https://lh3.googleusercontent.com/-EU6DQoaxgfQ/AAAAAAAAAAI/AAAAAAAAByM/kewBTgh0GFk/s64/photo.jpg",
      "userId": "02608359875210558903"
     },
     "user_tz": -330
    },
    "id": "ZU4uvM3_NSBu",
    "outputId": "1a55afad-2616-44b8-c0be-a874cbbdc877"
   },
   "outputs": [
    {
     "name": "stdout",
     "output_type": "stream",
     "text": [
      "0 100.0%\n"
     ]
    },
    {
     "data": {
      "image/png": "[encoded data removed]",
      "text/plain": [
       "<Figure size 432x288 with 1 Axes>"
      ]
     },
     "metadata": {
      "needs_background": "light",
      "tags": []
     },
     "output_type": "display_data"
    },
    {
     "name": "stdout",
     "output_type": "stream",
     "text": [
      "5 99.99978542327881%\n"
     ]
    },
    {
     "data": {
      "image/png": "[encoded data removed]",
      "text/plain": [
       "<Figure size 432x288 with 1 Axes>"
      ]
     },
     "metadata": {
      "needs_background": "light",
      "tags": []
     },
     "output_type": "display_data"
    },
    {
     "name": "stdout",
     "output_type": "stream",
     "text": [
      "4 100.0%\n"
     ]
    },
    {
     "data": {
      "image/png": "[encoded data removed]",
      "text/plain": [
       "<Figure size 432x288 with 1 Axes>"
      ]
     },
     "metadata": {
      "needs_background": "light",
      "tags": []
     },
     "output_type": "display_data"
    },
    {
     "name": "stdout",
     "output_type": "stream",
     "text": [
      "0 99.99996423721313%\n"
     ]
    },
    {
     "data": {
      "image/png": "[encoded data removed]",
      "text/plain": [
       "<Figure size 432x288 with 1 Axes>"
      ]
     },
     "metadata": {
      "needs_background": "light",
      "tags": []
     },
     "output_type": "display_data"
    },
    {
     "name": "stdout",
     "output_type": "stream",
     "text": [
      "8 100.0%\n"
     ]
    },
    {
     "data": {
      "image/png": "[encoded data removed]",
      "text/plain": [
       "<Figure size 432x288 with 1 Axes>"
      ]
     },
     "metadata": {
      "needs_background": "light",
      "tags": []
     },
     "output_type": "display_data"
    },
    {
     "name": "stdout",
     "output_type": "stream",
     "text": [
      "7 100.0%\n"
     ]
    },
    {
     "data": {
      "image/png": "[encoded data removed]",
      "text/plain": [
       "<Figure size 432x288 with 1 Axes>"
      ]
     },
     "metadata": {
      "needs_background": "light",
      "tags": []
     },
     "output_type": "display_data"
    },
    {
     "name": "stdout",
     "output_type": "stream",
     "text": [
      "1 100.0%\n"
     ]
    },
    {
     "data": {
      "image/png": "[encoded data removed]",
      "text/plain": [
       "<Figure size 432x288 with 1 Axes>"
      ]
     },
     "metadata": {
      "needs_background": "light",
      "tags": []
     },
     "output_type": "display_data"
    },
    {
     "name": "stdout",
     "output_type": "stream",
     "text": [
      "6 100.0%\n"
     ]
    },
    {
     "data": {
      "image/png": "[encoded data removed]",
      "text/plain": [
       "<Figure size 432x288 with 1 Axes>"
      ]
     },
     "metadata": {
      "needs_background": "light",
      "tags": []
     },
     "output_type": "display_data"
    },
    {
     "name": "stdout",
     "output_type": "stream",
     "text": [
      "7 100.0%\n"
     ]
    },
    {
     "data": {
      "image/png": "[encoded data removed]",
      "text/plain": [
       "<Figure size 432x288 with 1 Axes>"
      ]
     },
     "metadata": {
      "needs_background": "light",
      "tags": []
     },
     "output_type": "display_data"
    },
    {
     "name": "stdout",
     "output_type": "stream",
     "text": [
      "8 100.0%\n"
     ]
    },
    {
     "data": {
      "image/png": "[encoded data removed]",
      "text/plain": [
       "<Figure size 432x288 with 1 Axes>"
      ]
     },
     "metadata": {
      "needs_background": "light",
      "tags": []
     },
     "output_type": "display_data"
    }
   ],
   "source": [
    "for img in np.random.randint(0, 10000, 10):\n",
    "    print(np.argmax(predictions[img]), str(np.max(predictions[img])*100)+\"%\")\n",
    "    plt.imshow(np.squeeze(x_test[img]))\n",
    "    plt.show()"
   ]
  },
  {
   "cell_type": "code",
   "execution_count": 20,
   "metadata": {
    "colab": {
     "base_uri": "https://localhost:8080/",
     "height": 34
    },
    "colab_type": "code",
    "executionInfo": {
     "elapsed": 1226,
     "status": "ok",
     "timestamp": 1599543377761,
     "user": {
      "displayName": "Sunmeet Oberoi",
      "photoUrl": "https://lh3.googleusercontent.com/-EU6DQoaxgfQ/AAAAAAAAAAI/AAAAAAAAByM/kewBTgh0GFk/s64/photo.jpg",
      "userId": "02608359875210558903"
     },
     "user_tz": -330
    },
    "id": "hnwULKeTNegB",
    "outputId": "200f3bdc-18bf-4e77-fe68-bf9ebdba457d"
   },
   "outputs": [
    {
     "data": {
      "text/plain": [
       "(10000, 10)"
      ]
     },
     "execution_count": 20,
     "metadata": {
      "tags": []
     },
     "output_type": "execute_result"
    }
   ],
   "source": [
    "predictions.shape"
   ]
  },
  {
   "cell_type": "code",
   "execution_count": 23,
   "metadata": {
    "colab": {},
    "colab_type": "code",
    "executionInfo": {
     "elapsed": 1277,
     "status": "ok",
     "timestamp": 1599553427420,
     "user": {
      "displayName": "Sunmeet Oberoi",
      "photoUrl": "https://lh3.googleusercontent.com/-EU6DQoaxgfQ/AAAAAAAAAAI/AAAAAAAAByM/kewBTgh0GFk/s64/photo.jpg",
      "userId": "02608359875210558903"
     },
     "user_tz": -330
    },
    "id": "Sm8xgf4cNt2S"
   },
   "outputs": [],
   "source": [
    "model.save(\"MNIST.h5\")"
   ]
  },
  {
   "cell_type": "code",
   "execution_count": null,
   "metadata": {
    "colab": {},
    "colab_type": "code",
    "id": "YQx-g4DBRcRg"
   },
   "outputs": [],
   "source": []
  }
 ],
 "metadata": {
  "accelerator": "GPU",
  "colab": {
   "name": "MNIST.ipynb",
   "provenance": []
  },
  "kernelspec": {
   "display_name": "Python 3",
   "language": "python",
   "name": "python3"
  },
  "language_info": {
   "codemirror_mode": {
    "name": "ipython",
    "version": 3
   },
   "file_extension": ".py",
   "mimetype": "text/x-python",
   "name": "python",
   "nbconvert_exporter": "python",
   "pygments_lexer": "ipython3",
   "version": "3.8.2"
  }
 },
 "nbformat": 4,
 "nbformat_minor": 1
}